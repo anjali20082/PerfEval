{
  "nbformat": 4,
  "nbformat_minor": 5,
  "metadata": {
    "kernelspec": {
      "display_name": "Python 3 (ipykernel)",
      "language": "python",
      "name": "python3"
    },
    "language_info": {
      "codemirror_mode": {
        "name": "ipython",
        "version": 3
      },
      "file_extension": ".py",
      "mimetype": "text/x-python",
      "name": "python",
      "nbconvert_exporter": "python",
      "pygments_lexer": "ipython3",
      "version": "3.7.3"
    },
    "colab": {
      "name": "causal.ipynb",
      "provenance": [],
      "collapsed_sections": [],
      "include_colab_link": true
    }
  },
  "cells": [
    {
      "cell_type": "markdown",
      "metadata": {
        "id": "view-in-github",
        "colab_type": "text"
      },
      "source": [
        "<a href=\"https://colab.research.google.com/github/anjali20082/PerfEval/blob/master/CorrelationAnalysis_PythonNotebooks/Response_Time_Analysis/causal.ipynb\" target=\"_parent\"><img src=\"https://colab.research.google.com/assets/colab-badge.svg\" alt=\"Open In Colab\"/></a>"
      ]
    },
    {
      "cell_type": "code",
      "metadata": {
        "scrolled": true,
        "id": "harmful-directive"
      },
      "source": [
        "import matplotlib\n",
        "# matplotlib.use('TkAgg')\n",
        "\n",
        "import matplotlib.pyplot as plt\n",
        "import pandas as pd\n",
        "import numpy as np\n",
        "from sklearn import preprocessing\n",
        "from sklearn.feature_selection import chi2\n",
        "from sklearn.cluster import KMeans\n",
        "from sklearn.metrics import silhouette_samples, silhouette_score\n",
        "from sklearn.svm import SVR\n",
        "#from skfeature.function.similarity_based import fisher_score\n",
        "from sklearn.ensemble import RandomForestClassifier\n",
        "import matplotlib.pyplot as plt\n",
        "from sklearn.model_selection import train_test_split\n",
        "from sklearn.svm import SVR\n",
        "from sklearn.metrics import r2_score\n",
        "from sklearn.tree import DecisionTreeClassifier\n",
        "import seaborn as sns\n",
        "#from yellowbrick.cluster import KElbowVisualizer\n",
        "from sklearn.metrics import make_scorer, accuracy_score, precision_score, recall_score, f1_score\n",
        "from sklearn import model_selection\n",
        "from sklearn.preprocessing import OneHotEncoder\n",
        "from sklearn.linear_model import LinearRegression\n",
        "from sklearn.manifold import MDS\n",
        "import csv\n",
        "import sys\n",
        "import scipy\n",
        "%matplotlib inline\n",
        "\n",
        "plt.rcParams.update({'figure.autolayout': True})\n",
        "matplotlib.rcParams['figure.figsize'] = 14, 10\n",
        "\n",
        "SMALL_SIZE = 40\n",
        "MEDIUM_SIZE = 40\n",
        "BIGGER_SIZE = 40\n",
        "\n",
        "plt.rc('font', size=SMALL_SIZE)          # controls default text sizes\n",
        "plt.rc('axes', titlesize=SMALL_SIZE)     # fontsize of the axes title\n",
        "plt.rc('axes', labelsize=MEDIUM_SIZE)    # fontsize of the x and y labels\n",
        "plt.rc('xtick', labelsize=SMALL_SIZE)    # fontsize of the tick labels\n",
        "plt.rc('ytick', labelsize=SMALL_SIZE)    # fontsize of the tick labels\n",
        "plt.rc('legend', fontsize=SMALL_SIZE)    # legend fontsize\n",
        "plt.rc('figure', titlesize=BIGGER_SIZE)  # fontsize of the figure title\n",
        "\n",
        "feature_lists = {\n",
        "\t\"youtube\": [\"Youtube_search channel page\", \"Youtube_search channel page\", \"Youtube_search video page\",\"Youtube_play video page\"],\n",
        "\t\"linkedin\":[\"LinkedIn_view profile\", \"LinkedIn_check my connections\",\"LinkedIn_search results page\", \"LinkedIn_person profile page\"],\n",
        "\t\"hotstar\":[\"Hotstar_open trending page\", \"Hotstar_search video\"],\n",
        "\t\"facebook\":[\"Facebook_search results page\",\"Facebook_person profile page\"],\n",
        "\t\"flipkart\":[\"Flipkart_search product\",\"Flipkart_product profile page\",\"Flipkart_add to cart\",\"Flipkart_go to cart\"],\n",
        "\t\"amazon\":[\"Amazon_search results page\", \"Amazon_product profile page\", \"Amazon_add to cart\", \"Amazon_go to cart\", \"Amazon_remove from cart\"],\n",
        "\t\"telegram\":[\"Telegram_sending message\"],\n",
        "\t\"whatsapp\":[\"Whatsapp_sending message\"],\n",
        "\t\"gmaps\":[\"GoogleMaps_searching place\"],\n",
        "\t\"gnews\":[\"GoogleNews_opening news page\"],\n",
        "\t\"dailyhunt\":[\"Dailyhunt_search results page\", \"Dailyhunt_opening news page\"],\n",
        "\t\"paytm\":[\"Paytm_transaction from wallet\"],\n",
        "\t# \"mobikwik\":[\"Mobikwik_transaction from wallet\"]\n",
        "\n",
        "}\n"
      ],
      "id": "harmful-directive",
      "execution_count": null,
      "outputs": []
    },
    {
      "cell_type": "code",
      "metadata": {
        "colab": {
          "base_uri": "https://localhost:8080/"
        },
        "id": "TElzRXGz1LFc",
        "outputId": "ae0d7bb5-6628-4b5b-860e-bd5a4c14796a"
      },
      "source": [
        "from google.colab import drive\n",
        "drive.mount('/content/drive')"
      ],
      "id": "TElzRXGz1LFc",
      "execution_count": null,
      "outputs": [
        {
          "output_type": "stream",
          "name": "stdout",
          "text": [
            "Mounted at /content/drive\n"
          ]
        }
      ]
    },
    {
      "cell_type": "code",
      "metadata": {
        "colab": {
          "base_uri": "https://localhost:8080/"
        },
        "id": "solid-makeup",
        "outputId": "326396bb-b9d3-4970-bad1-1f9e1bc2c77b"
      },
      "source": [
        "clusters = {\n",
        "\t\"youtube\":2,\n",
        "\t\"linkedin\":4,\n",
        "\t\"hotstar\":2,\n",
        "\t\"facebook\":2,\n",
        "\t\"flipkart\":2,\n",
        "\t\"amazon\":2,\n",
        "\t\"telegram\":4,\n",
        "\t\"whatsapp\":4,\n",
        "\t\"gmaps\":2,\n",
        "\t\"gnews\":2,\n",
        "\t\"dailyhunt\":2,\n",
        "\t\"paytm\":4,\n",
        "\t# \"mobikwik\":3\n",
        "}\n",
        "cols_to_norm = ['LATENCY','PING_MEDIAN_GOOGLE']\n",
        "cols_to_norm_mod = ['LATENCY_NORM','PING_MEDIAN_NORM']\n",
        "\n",
        "dataset = pd.read_csv('/content/drive/MyDrive/SummerSem/Capstone_PerfEval/Bytes_Time_correlation/controlled_data_os8_MoreData2.csv')\n",
        "# dataset = pd.read_csv('/content/drive/MyDrive/SummerSem/Capstone_PerfEval/Bytes_Time_correlation/controlled_data_os8_Full.csv')\n",
        "# print(dataset)\n",
        "#dataset = dataset.drop(columns=['STUDENT'])\n",
        "# print(dataset['DISTANCE'].unique())\n",
        "print(dataset[['PING_MEDIAN_GOOGLE', 'PING_MEDIAN_AMAZON', 'PING_MEDIAN_MOBIKWIK']])\n",
        "\n",
        "print(scipy.stats.pearsonr(dataset['LATENCY'].values, dataset['RX_BYTES (MB)'].values))\n",
        "print(scipy.stats.spearmanr(dataset['LATENCY'].values, dataset['RX_BYTES (MB)'].values))\n",
        "print(scipy.stats.pearsonr(dataset['LATENCY'].values, dataset['TX_BYTES (MB)'].values))\n",
        "print(scipy.stats.spearmanr(dataset['LATENCY'].values, dataset['TX_BYTES (MB)'].values))\n",
        "\n",
        "# print(scipy.stats.pearsonr(dataset['PING_MEDIAN_GOOGLE'].values, dataset['PING_MEDIAN_AMAZON']))\n",
        "# print(scipy.stats.pearsonr(dataset['PING_MEDIAN_MOBIKWIK'].values, dataset['PING_MEDIAN_AMAZON']))\n",
        "# print(scipy.stats.pearsonr(dataset['PING_MEDIAN_GOOGLE'].values, dataset['PING_MEDIAN_MOBIKWIK']))\n",
        "\n",
        "# print(scipy.stats.pearsonr(dataset['PING_MEDIAN_GOOGLE'].values, dataset['DISTANCE'].values))\n",
        "# print(scipy.stats.spearmanr(dataset['PING_MEDIAN_GOOGLE'].values, dataset['DISTANCE'].values))\n",
        "# print(scipy.stats.kendalltau(dataset['PING_MEDIAN_GOOGLE'].values, dataset['DISTANCE'].values))\n",
        "\n",
        "\n",
        "# print(scipy.stats.spearmanr(dataset['PING_MIN_GOOGLE'].values, dataset['DISTANCE'].values))\n",
        "# print(scipy.stats.spearmanr(dataset['PING_MIN_AMAZON'].values, dataset['DISTANCE'].values))\n",
        "# print(scipy.stats.spearmanr(dataset['PING_MIN_MOBIKWIK'].values, dataset['DISTANCE'].values))\n",
        "\n",
        "\n",
        "#bins = np.array([i * 100 for i in range(50)])\n",
        "#dataset['PING_DIS'] = pd.cut(dataset['PING_MEDIAN_GOOGLE'], bins=bins, labels=False)\n",
        "\n",
        "#print(scipy.stats.spearmanr(dataset['PING_DI'].values, dataset['DISTANCE'].values))\n",
        "\n",
        "#print(scipy.stats.spearmanr(dataset['PING_MEDIAN_GOOGLE'].values, dataset[''].values))\n",
        "\n",
        "#print(scipy.stats.spearmanr(dataset[dataset['PING_DIS'] == 0]['PING_DIS'].values, dataset['DISTANCE'].values))\n",
        "#print(scipy.stats.spearmanr(dataset['PING_DIS'].values, dataset['NET_TYPE'].values))\n",
        "\n",
        "# print(dataset['PING_MEDIAN_DIS'])\n",
        "# #shaved = dataset[dataset['PING_MEDIAN_GOOGLE'] > 500]\n",
        "# #print(len(shaved))\n",
        "# print(scipy.stats.spearmanr(shaved['PING_MEDIAN_GOOGLE'].values, shaved['DISTANCE'].values))\n",
        "# print(scipy.stats.spearmanr(shaved['PING_MEDIAN_GOOGLE'].values, shaved['NET_TYPE'].values))\n",
        "# print(shaved[shaved['NET_TYPE'] == 2])"
      ],
      "id": "solid-makeup",
      "execution_count": null,
      "outputs": [
        {
          "output_type": "stream",
          "name": "stdout",
          "text": [
            "      PING_MEDIAN_GOOGLE  PING_MEDIAN_AMAZON  PING_MEDIAN_MOBIKWIK\n",
            "0                   9.57                 NaN                   NaN\n",
            "1                   9.95                 NaN                   NaN\n",
            "2                   9.95                 NaN                   NaN\n",
            "3                   9.95                 NaN                   NaN\n",
            "4                   9.95                 NaN                   NaN\n",
            "...                  ...                 ...                   ...\n",
            "1533               13.40                 NaN                   NaN\n",
            "1534               13.40                 NaN                   NaN\n",
            "1535               13.35                 NaN                   NaN\n",
            "1536               13.35                 NaN                   NaN\n",
            "1537               13.35                 NaN                   NaN\n",
            "\n",
            "[1538 rows x 3 columns]\n",
            "(0.07100518709297855, 0.005338138814732044)\n",
            "SpearmanrResult(correlation=0.08187364914219418, pvalue=0.0013105805509465826)\n",
            "(0.2089050613835039, 1.257530769934548e-16)\n",
            "SpearmanrResult(correlation=0.1979978385172961, pvalue=4.63870633962897e-15)\n"
          ]
        }
      ]
    },
    {
      "cell_type": "code",
      "metadata": {
        "colab": {
          "base_uri": "https://localhost:8080/"
        },
        "id": "c42fcaf5",
        "outputId": "ec51de14-da58-4b38-e632-6fd41adec7b5"
      },
      "source": [
        "# print('Spearman, ping_median, ping_min', scipy.stats.spearmanr(dataset['PING_MEDIAN_GOOGLE'], dataset['PING_MIN_GOOGLE']))\n",
        "# print('Spearman, Android, RAM', scipy.stats.spearmanr(dataset['ANDROID'], dataset['RAM']))\n",
        "# print('Spearman, RAM, Distance', scipy.stats.spearmanr(dataset['RAM'], dataset['DISTANCE']))\n",
        "# print('Spearman, Android, Distance', scipy.stats.spearmanr(dataset['ANDROID'], dataset['DISTANCE']))\n",
        "print('Spearman, Latency, RX_BYTES (MB)', scipy.stats.spearmanr(dataset['LATENCY'], dataset['RX_BYTES (MB)']))\n",
        "print('Spearman, Latency, TX_BYTES (MB)', scipy.stats.spearmanr(dataset['LATENCY'], dataset['TX_BYTES (MB)']))"
      ],
      "id": "c42fcaf5",
      "execution_count": null,
      "outputs": [
        {
          "output_type": "stream",
          "name": "stdout",
          "text": [
            "Spearman, Latency, RX_BYTES (MB) SpearmanrResult(correlation=0.08187364914219418, pvalue=0.0013105805509465826)\n",
            "Spearman, Latency, TX_BYTES (MB) SpearmanrResult(correlation=0.1979978385172961, pvalue=4.63870633962897e-15)\n"
          ]
        }
      ]
    },
    {
      "cell_type": "code",
      "metadata": {
        "scrolled": true,
        "colab": {
          "base_uri": "https://localhost:8080/"
        },
        "id": "12cb9148",
        "outputId": "a1af697d-39e7-4d50-c09e-5b5212d3675a"
      },
      "source": [
        "apps = dataset['APP'].unique()\n",
        "# features =  dataset['FEATURE'].unique()\n",
        "# dataset['DISTANCE_DIS'] = dataset['DISTANCE'] / np.max(dataset['DISTANCE'].values)\n",
        "# dataset['DISTANCE_DIS'] = np.digitize(dataset['DISTANCE_DIS'].values, [-0.01, 0.33, 0.66, 1.01])\n",
        "#print(dataset['DISTANCE_DIS'], dataset)\n",
        "\n",
        "student_list = {}\n",
        "feature_student_list = {}\n",
        "for app in apps:\n",
        "    temp_dataset = (dataset[dataset['APP'] == app])\n",
        "    features =  temp_dataset['FEATURE_NAME'].unique()\n",
        "   \n",
        "    for feature in features:\n",
        "      temp_dataset_new = (temp_dataset[temp_dataset['FEATURE_NAME'] == feature])\n",
        "      print('Spearman, latency, rx', feature, scipy.stats.spearmanr(temp_dataset_new['LATENCY'], temp_dataset_new['RX_BYTES (MB)']), app, sep=',')\n",
        "      print()\n",
        "    \n",
        "      overall75percentile = np.percentile(temp_dataset_new['LATENCY'].values, 75)\n",
        "      overallmedian = np.median(temp_dataset_new['LATENCY'].values)"
      ],
      "id": "12cb9148",
      "execution_count": null,
      "outputs": [
        {
          "output_type": "stream",
          "name": "stdout",
          "text": [
            "Spearman, latency, rx,opening news page,SpearmanrResult(correlation=0.01262435288600116, pvalue=0.9192375921927196),dailyhunt\n",
            "\n",
            "Spearman, latency, rx,search product result,SpearmanrResult(correlation=0.04079000756892634, pvalue=0.7469884077691278),flipkart\n",
            "\n",
            "Spearman, latency, rx,product profile,SpearmanrResult(correlation=0.07164544505898335, pvalue=0.5768454643499976),flipkart\n",
            "\n",
            "Spearman, latency, rx,add to cart,SpearmanrResult(correlation=0.14412608964881388, pvalue=0.24827307921163336),flipkart\n",
            "\n",
            "Spearman, latency, rx,go to cart,SpearmanrResult(correlation=0.15573462499482732, pvalue=0.21179120028475484),flipkart\n",
            "\n",
            "Spearman, latency, rx,remove from cart,SpearmanrResult(correlation=0.04410644046839016, pvalue=0.7251027987364945),flipkart\n",
            "\n",
            "Spearman, latency, rx,search place,SpearmanrResult(correlation=-0.1368286445012788, pvalue=0.2622442394848291),googlemaps\n",
            "\n",
            "Spearman, latency, rx,search video page,SpearmanrResult(correlation=0.14810971593198138, pvalue=0.23164750636478287),hotstar\n",
            "\n",
            "Spearman, latency, rx,play video page,SpearmanrResult(correlation=0.05029921882554458, pvalue=0.6837538182546716),hotstar\n",
            "\n",
            "Spearman, latency, rx,my connections page,SpearmanrResult(correlation=-0.05661463140501766, pvalue=0.6440412125967448),linkedin\n",
            "\n",
            "Spearman, latency, rx,my profile page,SpearmanrResult(correlation=-0.2220686042645824, pvalue=0.06465316640771607),linkedin\n",
            "\n",
            "Spearman, latency, rx,search results page,SpearmanrResult(correlation=-0.0259469862654186, pvalue=0.8311591855650993),linkedin\n",
            "\n",
            "Spearman, latency, rx,send message,SpearmanrResult(correlation=0.22572093635990234, pvalue=0.06026641753305039),telegram\n",
            "\n",
            "Spearman, latency, rx,sending message,SpearmanrResult(correlation=0.09638994460546053, pvalue=0.4307641723867591),whatsapp\n",
            "\n",
            "Spearman, latency, rx,search video page,SpearmanrResult(correlation=0.5123440592432392, pvalue=5.787822398482024e-06),youtube\n",
            "\n",
            "Spearman, latency, rx,play video page,SpearmanrResult(correlation=-0.08088531187122737, pvalue=0.505640003084161),youtube\n",
            "\n",
            "Spearman, latency, rx,search channel page,SpearmanrResult(correlation=0.07194864484188303, pvalue=0.5848617903845383),youtube\n",
            "\n",
            "Spearman, latency, rx,post in a group,SpearmanrResult(correlation=0.5836271630035401, pvalue=1.4149155495634533e-07),facebook\n",
            "\n",
            "Spearman, latency, rx,search results page,SpearmanrResult(correlation=-0.1625334539111821, pvalue=0.18209532842295265),facebook\n",
            "\n",
            "Spearman, latency, rx,person profile page,SpearmanrResult(correlation=-0.412977949907744, pvalue=0.0004209409748757305),facebook\n",
            "\n",
            "Spearman, latency, rx,search news,SpearmanrResult(correlation=0.1821409684973937, pvalue=0.15651933132751594),googlenews\n",
            "\n",
            "Spearman, latency, rx,add to cart clicked,SpearmanrResult(correlation=-0.20158102766798422, pvalue=0.36833707343440125),amazon\n",
            "\n",
            "Spearman, latency, rx,go to cart clicked,SpearmanrResult(correlation=-0.2049689440993789, pvalue=0.360170870237696),amazon\n",
            "\n",
            "Spearman, latency, rx,remove from cart clicked,SpearmanrResult(correlation=0.3038577717527486, pvalue=0.18053541812725),amazon\n",
            "\n",
            "Spearman, latency, rx,search results page,SpearmanrResult(correlation=-0.1533834586466165, pvalue=0.5185244542213634),amazon\n",
            "\n",
            "Spearman, latency, rx,product profile page,SpearmanrResult(correlation=-0.5272727272727272, pvalue=0.014040563252064478),amazon\n",
            "\n",
            "Spearman, latency, rx,transaction from wallet,SpearmanrResult(correlation=0.05812237925392313, pvalue=0.8188050899647705),paytm\n",
            "\n"
          ]
        }
      ]
    },
    {
      "cell_type": "code",
      "metadata": {
        "colab": {
          "base_uri": "https://localhost:8080/"
        },
        "id": "WS6nQVZDZqjr",
        "outputId": "29adb26f-d928-48c3-992f-a4bcd61c74f8"
      },
      "source": [
        "apps = dataset['APP'].unique()\n",
        "# features =  dataset['FEATURE'].unique()\n",
        "# dataset['DISTANCE_DIS'] = dataset['DISTANCE'] / np.max(dataset['DISTANCE'].values)\n",
        "# dataset['DISTANCE_DIS'] = np.digitize(dataset['DISTANCE_DIS'].values, [-0.01, 0.33, 0.66, 1.01])\n",
        "#print(dataset['DISTANCE_DIS'], dataset)\n",
        "\n",
        "student_list = {}\n",
        "feature_student_list = {}\n",
        "for app in apps:\n",
        "    temp_dataset = (dataset[dataset['APP'] == app])\n",
        "    features =  temp_dataset['FEATURE_NAME'].unique()\n",
        "   \n",
        "    for feature in features:\n",
        "      temp_dataset_new = (temp_dataset[temp_dataset['FEATURE_NAME'] == feature])\n",
        "      print('Spearman, latency, tx', feature, scipy.stats.spearmanr(temp_dataset_new['LATENCY'], temp_dataset_new['TX_BYTES (MB)']), app, sep=',')\n",
        "      print()\n",
        "    \n",
        "      overall75percentile = np.percentile(temp_dataset_new['LATENCY'].values, 75)\n",
        "      overallmedian = np.median(temp_dataset_new['LATENCY'].values)"
      ],
      "id": "WS6nQVZDZqjr",
      "execution_count": null,
      "outputs": [
        {
          "output_type": "stream",
          "name": "stdout",
          "text": [
            "Spearman, latency, tx,opening news page,SpearmanrResult(correlation=-0.006572051716832825, pvalue=0.957905002417142),dailyhunt\n",
            "\n",
            "Spearman, latency, tx,search product result,SpearmanrResult(correlation=0.06619085901324168, pvalue=0.6003701056362323),flipkart\n",
            "\n",
            "Spearman, latency, tx,product profile,SpearmanrResult(correlation=-0.22330076820307285, pvalue=0.07150225661675626),flipkart\n",
            "\n",
            "Spearman, latency, tx,add to cart,SpearmanrResult(correlation=0.10178098131207612, pvalue=0.4161098612852734),flipkart\n",
            "\n",
            "Spearman, latency, tx,go to cart,SpearmanrResult(correlation=0.06056051362560966, pvalue=0.6290678224831532),flipkart\n",
            "\n",
            "Spearman, latency, tx,remove from cart,SpearmanrResult(correlation=-0.09032851448739518, pvalue=0.47073251602601707),flipkart\n",
            "\n",
            "Spearman, latency, tx,search place,SpearmanrResult(correlation=0.14746072341980274, pvalue=0.2266066120037763),googlemaps\n",
            "\n",
            "Spearman, latency, tx,search video page,SpearmanrResult(correlation=0.08628757904741141, pvalue=0.48749463524269254),hotstar\n",
            "\n",
            "Spearman, latency, tx,play video page,SpearmanrResult(correlation=0.07003712860376586, pvalue=0.570353412887991),hotstar\n",
            "\n",
            "Spearman, latency, tx,my connections page,SpearmanrResult(correlation=-0.3491144259922192, pvalue=0.0032811244417724882),linkedin\n",
            "\n",
            "Spearman, latency, tx,my profile page,SpearmanrResult(correlation=-0.38142663089045115, pvalue=0.001122435065156948),linkedin\n",
            "\n",
            "Spearman, latency, tx,search results page,SpearmanrResult(correlation=-0.6211355087044004, pvalue=9.634477132625622e-09),linkedin\n",
            "\n",
            "Spearman, latency, tx,send message,SpearmanrResult(correlation=0.19426581750720587, pvalue=0.10707685517301474),telegram\n",
            "\n",
            "Spearman, latency, tx,sending message,SpearmanrResult(correlation=-0.015200372717301036, pvalue=0.901343612793854),whatsapp\n",
            "\n",
            "Spearman, latency, tx,search video page,SpearmanrResult(correlation=0.39472993567814624, pvalue=0.0007208742851050559),youtube\n",
            "\n",
            "Spearman, latency, tx,play video page,SpearmanrResult(correlation=0.052716297786720316, pvalue=0.6647123934036803),youtube\n",
            "\n",
            "Spearman, latency, tx,search channel page,SpearmanrResult(correlation=0.04696531857195146, pvalue=0.7215891023899033),youtube\n",
            "\n",
            "Spearman, latency, tx,post in a group,SpearmanrResult(correlation=0.6720149780150609, pvalue=1.8996386800230984e-10),facebook\n",
            "\n",
            "Spearman, latency, tx,search results page,SpearmanrResult(correlation=-0.17737885906425457, pvalue=0.1418291956543666),facebook\n",
            "\n",
            "Spearman, latency, tx,person profile page,SpearmanrResult(correlation=-0.3273611645729083, pvalue=0.005670531424061667),facebook\n",
            "\n",
            "Spearman, latency, tx,search news,SpearmanrResult(correlation=0.2098411019616731, pvalue=0.101641627315525),googlenews\n",
            "\n",
            "Spearman, latency, tx,product profile page,SpearmanrResult(correlation=-0.5369847543760589, pvalue=0.009969419900431743),amazon\n",
            "\n",
            "Spearman, latency, tx,add to cart clicked,SpearmanrResult(correlation=-0.051383399209486175, pvalue=0.8203531110821478),amazon\n",
            "\n",
            "Spearman, latency, tx,go to cart clicked,SpearmanrResult(correlation=-0.39582156973461324, pvalue=0.06822788864462451),amazon\n",
            "\n",
            "Spearman, latency, tx,remove from cart clicked,SpearmanrResult(correlation=0.015349987673875359, pvalue=0.9459457629927286),amazon\n",
            "\n",
            "Spearman, latency, tx,search results page,SpearmanrResult(correlation=-0.2714285714285714, pvalue=0.233974271651381),amazon\n",
            "\n",
            "Spearman, latency, tx,transaction from wallet,SpearmanrResult(correlation=0.45771373662464465, pvalue=0.05613278047283488),paytm\n",
            "\n"
          ]
        }
      ]
    },
    {
      "cell_type": "code",
      "metadata": {
        "id": "RAA_XB9qZwkX"
      },
      "source": [
        "plt.rcParams.update({'figure.autolayout': True})\n",
        "import matplotlib as mlt  \n",
        "mlt.rcParams['figure.figsize'] = 20, 15\n",
        "boxprops = dict(linewidth=4)\n",
        "medianprops = dict(linewidth=4)\n",
        "\n",
        "SMALL_SIZE = 30\n",
        "MEDIUM_SIZE = 30\n",
        "BIGGER_SIZE = 30\n",
        "\n",
        "plt.rc('font', size=SMALL_SIZE)          # controls default text sizes\n",
        "plt.rc('axes', titlesize=SMALL_SIZE)     # fontsize of the axes title\n",
        "plt.rc('axes', labelsize=MEDIUM_SIZE)    # fontsize of the x and y labels\n",
        "plt.rc('xtick', labelsize=SMALL_SIZE)    # fontsize of the tick labels\n",
        "plt.rc('ytick', labelsize=SMALL_SIZE)    # fontsize of the tick labels\n",
        "plt.rc('legend', fontsize=SMALL_SIZE)    # legend fontsize\n",
        "plt.rc('figure', titlesize=BIGGER_SIZE)  # fontsize of the figure title"
      ],
      "id": "RAA_XB9qZwkX",
      "execution_count": null,
      "outputs": []
    },
    {
      "cell_type": "code",
      "metadata": {
        "colab": {
          "base_uri": "https://localhost:8080/",
          "height": 467
        },
        "id": "4d784cea",
        "outputId": "b1241233-3e08-4a0a-8250-dc6e0b207eab"
      },
      "source": [
        "correlation_df_rx = pd.read_csv('/content/drive/MyDrive/Capstone_PerfEval/Bytes_Time_correlation/correlation_rx.txt', sep=',', index_col=False, header=None)\n",
        "correlation_df_rx.columns=['SPEARMAN', 'LATENCY', 'PARAMETER', 'FEATURE', 'CORRELATION','APP']\n",
        "correlation_df_rx['APP_Action']=correlation_df_rx['APP']+'_'+correlation_df_rx['FEATURE']\n",
        "# print(correlation_df)\n",
        "\n",
        "parameter_list = correlation_df_rx['APP_Action'].unique()\n",
        "print(parameter_list)\n",
        "values = [0] * len(parameter_list)\n",
        "# parameter_list=np.delete(parameter_list, len(parameter_list))\n",
        "# print(parameter_list)\n",
        "cnt = 0\n",
        "for parameter in parameter_list:\n",
        "    # print(parameter)\n",
        "    values[cnt] = correlation_df_rx[correlation_df_rx['APP_Action'] == parameter]['CORRELATION'].values\n",
        "    # print(values[cnt])\n",
        "    cnt += 1\n",
        "values = np.stack(values, axis=0 )\n",
        "values = np.transpose(values)\n",
        "print(values)\n",
        "# print(values[~np.isnan(values).any(axis=1), :])\n",
        "filtered_data = values[~np.isnan(values).any(axis=1), :]\n",
        "print(filtered_data)\n",
        "print(type(filtered_data[0][0]))\n",
        "# parameter_list_full = ['Dht_opening\\nnews']\n",
        "# Corr_RX_list = [filtered_data[0][0]]\n",
        "# # plt.boxplot(filtered_data[0][0], labels=parameter_list_dht)\n",
        "# plt.plot(parameter_list_full, dictionary_corr, marker = 'o')\n",
        "\n",
        "plt.grid()\n",
        "plt.ylim([-0.5, 0.5])\n",
        "plt.title(\"RX_Dailyhunt\")\n",
        "plt.show()\n",
        "# plt.savefig('/content/drive/MyDrive/Capstone_PerfEval/Bytes_Time_correlation/correlation.pdf', bbox_inches='tight')"
      ],
      "id": "4d784cea",
      "execution_count": null,
      "outputs": [
        {
          "output_type": "error",
          "ename": "FileNotFoundError",
          "evalue": "ignored",
          "traceback": [
            "\u001b[0;31m---------------------------------------------------------------------------\u001b[0m",
            "\u001b[0;31mFileNotFoundError\u001b[0m                         Traceback (most recent call last)",
            "\u001b[0;32m<ipython-input-9-ffa886166b18>\u001b[0m in \u001b[0;36m<module>\u001b[0;34m()\u001b[0m\n\u001b[0;32m----> 1\u001b[0;31m \u001b[0mcorrelation_df_rx\u001b[0m \u001b[0;34m=\u001b[0m \u001b[0mpd\u001b[0m\u001b[0;34m.\u001b[0m\u001b[0mread_csv\u001b[0m\u001b[0;34m(\u001b[0m\u001b[0;34m'/content/drive/MyDrive/Capstone_PerfEval/Bytes_Time_correlation/correlation_rx.txt'\u001b[0m\u001b[0;34m,\u001b[0m \u001b[0msep\u001b[0m\u001b[0;34m=\u001b[0m\u001b[0;34m','\u001b[0m\u001b[0;34m,\u001b[0m \u001b[0mindex_col\u001b[0m\u001b[0;34m=\u001b[0m\u001b[0;32mFalse\u001b[0m\u001b[0;34m,\u001b[0m \u001b[0mheader\u001b[0m\u001b[0;34m=\u001b[0m\u001b[0;32mNone\u001b[0m\u001b[0;34m)\u001b[0m\u001b[0;34m\u001b[0m\u001b[0;34m\u001b[0m\u001b[0m\n\u001b[0m\u001b[1;32m      2\u001b[0m \u001b[0mcorrelation_df_rx\u001b[0m\u001b[0;34m.\u001b[0m\u001b[0mcolumns\u001b[0m\u001b[0;34m=\u001b[0m\u001b[0;34m[\u001b[0m\u001b[0;34m'SPEARMAN'\u001b[0m\u001b[0;34m,\u001b[0m \u001b[0;34m'LATENCY'\u001b[0m\u001b[0;34m,\u001b[0m \u001b[0;34m'PARAMETER'\u001b[0m\u001b[0;34m,\u001b[0m \u001b[0;34m'FEATURE'\u001b[0m\u001b[0;34m,\u001b[0m \u001b[0;34m'CORRELATION'\u001b[0m\u001b[0;34m,\u001b[0m\u001b[0;34m'APP'\u001b[0m\u001b[0;34m]\u001b[0m\u001b[0;34m\u001b[0m\u001b[0;34m\u001b[0m\u001b[0m\n\u001b[1;32m      3\u001b[0m \u001b[0mcorrelation_df_rx\u001b[0m\u001b[0;34m[\u001b[0m\u001b[0;34m'APP_Action'\u001b[0m\u001b[0;34m]\u001b[0m\u001b[0;34m=\u001b[0m\u001b[0mcorrelation_df_rx\u001b[0m\u001b[0;34m[\u001b[0m\u001b[0;34m'APP'\u001b[0m\u001b[0;34m]\u001b[0m\u001b[0;34m+\u001b[0m\u001b[0;34m'_'\u001b[0m\u001b[0;34m+\u001b[0m\u001b[0mcorrelation_df_rx\u001b[0m\u001b[0;34m[\u001b[0m\u001b[0;34m'FEATURE'\u001b[0m\u001b[0;34m]\u001b[0m\u001b[0;34m\u001b[0m\u001b[0;34m\u001b[0m\u001b[0m\n\u001b[1;32m      4\u001b[0m \u001b[0;31m# print(correlation_df)\u001b[0m\u001b[0;34m\u001b[0m\u001b[0;34m\u001b[0m\u001b[0;34m\u001b[0m\u001b[0m\n\u001b[1;32m      5\u001b[0m \u001b[0;34m\u001b[0m\u001b[0m\n",
            "\u001b[0;32m/usr/local/lib/python3.7/dist-packages/pandas/io/parsers.py\u001b[0m in \u001b[0;36mread_csv\u001b[0;34m(filepath_or_buffer, sep, delimiter, header, names, index_col, usecols, squeeze, prefix, mangle_dupe_cols, dtype, engine, converters, true_values, false_values, skipinitialspace, skiprows, skipfooter, nrows, na_values, keep_default_na, na_filter, verbose, skip_blank_lines, parse_dates, infer_datetime_format, keep_date_col, date_parser, dayfirst, cache_dates, iterator, chunksize, compression, thousands, decimal, lineterminator, quotechar, quoting, doublequote, escapechar, comment, encoding, dialect, error_bad_lines, warn_bad_lines, delim_whitespace, low_memory, memory_map, float_precision)\u001b[0m\n\u001b[1;32m    686\u001b[0m     )\n\u001b[1;32m    687\u001b[0m \u001b[0;34m\u001b[0m\u001b[0m\n\u001b[0;32m--> 688\u001b[0;31m     \u001b[0;32mreturn\u001b[0m \u001b[0m_read\u001b[0m\u001b[0;34m(\u001b[0m\u001b[0mfilepath_or_buffer\u001b[0m\u001b[0;34m,\u001b[0m \u001b[0mkwds\u001b[0m\u001b[0;34m)\u001b[0m\u001b[0;34m\u001b[0m\u001b[0;34m\u001b[0m\u001b[0m\n\u001b[0m\u001b[1;32m    689\u001b[0m \u001b[0;34m\u001b[0m\u001b[0m\n\u001b[1;32m    690\u001b[0m \u001b[0;34m\u001b[0m\u001b[0m\n",
            "\u001b[0;32m/usr/local/lib/python3.7/dist-packages/pandas/io/parsers.py\u001b[0m in \u001b[0;36m_read\u001b[0;34m(filepath_or_buffer, kwds)\u001b[0m\n\u001b[1;32m    452\u001b[0m \u001b[0;34m\u001b[0m\u001b[0m\n\u001b[1;32m    453\u001b[0m     \u001b[0;31m# Create the parser.\u001b[0m\u001b[0;34m\u001b[0m\u001b[0;34m\u001b[0m\u001b[0;34m\u001b[0m\u001b[0m\n\u001b[0;32m--> 454\u001b[0;31m     \u001b[0mparser\u001b[0m \u001b[0;34m=\u001b[0m \u001b[0mTextFileReader\u001b[0m\u001b[0;34m(\u001b[0m\u001b[0mfp_or_buf\u001b[0m\u001b[0;34m,\u001b[0m \u001b[0;34m**\u001b[0m\u001b[0mkwds\u001b[0m\u001b[0;34m)\u001b[0m\u001b[0;34m\u001b[0m\u001b[0;34m\u001b[0m\u001b[0m\n\u001b[0m\u001b[1;32m    455\u001b[0m \u001b[0;34m\u001b[0m\u001b[0m\n\u001b[1;32m    456\u001b[0m     \u001b[0;32mif\u001b[0m \u001b[0mchunksize\u001b[0m \u001b[0;32mor\u001b[0m \u001b[0miterator\u001b[0m\u001b[0;34m:\u001b[0m\u001b[0;34m\u001b[0m\u001b[0;34m\u001b[0m\u001b[0m\n",
            "\u001b[0;32m/usr/local/lib/python3.7/dist-packages/pandas/io/parsers.py\u001b[0m in \u001b[0;36m__init__\u001b[0;34m(self, f, engine, **kwds)\u001b[0m\n\u001b[1;32m    946\u001b[0m             \u001b[0mself\u001b[0m\u001b[0;34m.\u001b[0m\u001b[0moptions\u001b[0m\u001b[0;34m[\u001b[0m\u001b[0;34m\"has_index_names\"\u001b[0m\u001b[0;34m]\u001b[0m \u001b[0;34m=\u001b[0m \u001b[0mkwds\u001b[0m\u001b[0;34m[\u001b[0m\u001b[0;34m\"has_index_names\"\u001b[0m\u001b[0;34m]\u001b[0m\u001b[0;34m\u001b[0m\u001b[0;34m\u001b[0m\u001b[0m\n\u001b[1;32m    947\u001b[0m \u001b[0;34m\u001b[0m\u001b[0m\n\u001b[0;32m--> 948\u001b[0;31m         \u001b[0mself\u001b[0m\u001b[0;34m.\u001b[0m\u001b[0m_make_engine\u001b[0m\u001b[0;34m(\u001b[0m\u001b[0mself\u001b[0m\u001b[0;34m.\u001b[0m\u001b[0mengine\u001b[0m\u001b[0;34m)\u001b[0m\u001b[0;34m\u001b[0m\u001b[0;34m\u001b[0m\u001b[0m\n\u001b[0m\u001b[1;32m    949\u001b[0m \u001b[0;34m\u001b[0m\u001b[0m\n\u001b[1;32m    950\u001b[0m     \u001b[0;32mdef\u001b[0m \u001b[0mclose\u001b[0m\u001b[0;34m(\u001b[0m\u001b[0mself\u001b[0m\u001b[0;34m)\u001b[0m\u001b[0;34m:\u001b[0m\u001b[0;34m\u001b[0m\u001b[0;34m\u001b[0m\u001b[0m\n",
            "\u001b[0;32m/usr/local/lib/python3.7/dist-packages/pandas/io/parsers.py\u001b[0m in \u001b[0;36m_make_engine\u001b[0;34m(self, engine)\u001b[0m\n\u001b[1;32m   1178\u001b[0m     \u001b[0;32mdef\u001b[0m \u001b[0m_make_engine\u001b[0m\u001b[0;34m(\u001b[0m\u001b[0mself\u001b[0m\u001b[0;34m,\u001b[0m \u001b[0mengine\u001b[0m\u001b[0;34m=\u001b[0m\u001b[0;34m\"c\"\u001b[0m\u001b[0;34m)\u001b[0m\u001b[0;34m:\u001b[0m\u001b[0;34m\u001b[0m\u001b[0;34m\u001b[0m\u001b[0m\n\u001b[1;32m   1179\u001b[0m         \u001b[0;32mif\u001b[0m \u001b[0mengine\u001b[0m \u001b[0;34m==\u001b[0m \u001b[0;34m\"c\"\u001b[0m\u001b[0;34m:\u001b[0m\u001b[0;34m\u001b[0m\u001b[0;34m\u001b[0m\u001b[0m\n\u001b[0;32m-> 1180\u001b[0;31m             \u001b[0mself\u001b[0m\u001b[0;34m.\u001b[0m\u001b[0m_engine\u001b[0m \u001b[0;34m=\u001b[0m \u001b[0mCParserWrapper\u001b[0m\u001b[0;34m(\u001b[0m\u001b[0mself\u001b[0m\u001b[0;34m.\u001b[0m\u001b[0mf\u001b[0m\u001b[0;34m,\u001b[0m \u001b[0;34m**\u001b[0m\u001b[0mself\u001b[0m\u001b[0;34m.\u001b[0m\u001b[0moptions\u001b[0m\u001b[0;34m)\u001b[0m\u001b[0;34m\u001b[0m\u001b[0;34m\u001b[0m\u001b[0m\n\u001b[0m\u001b[1;32m   1181\u001b[0m         \u001b[0;32melse\u001b[0m\u001b[0;34m:\u001b[0m\u001b[0;34m\u001b[0m\u001b[0;34m\u001b[0m\u001b[0m\n\u001b[1;32m   1182\u001b[0m             \u001b[0;32mif\u001b[0m \u001b[0mengine\u001b[0m \u001b[0;34m==\u001b[0m \u001b[0;34m\"python\"\u001b[0m\u001b[0;34m:\u001b[0m\u001b[0;34m\u001b[0m\u001b[0;34m\u001b[0m\u001b[0m\n",
            "\u001b[0;32m/usr/local/lib/python3.7/dist-packages/pandas/io/parsers.py\u001b[0m in \u001b[0;36m__init__\u001b[0;34m(self, src, **kwds)\u001b[0m\n\u001b[1;32m   2008\u001b[0m         \u001b[0mkwds\u001b[0m\u001b[0;34m[\u001b[0m\u001b[0;34m\"usecols\"\u001b[0m\u001b[0;34m]\u001b[0m \u001b[0;34m=\u001b[0m \u001b[0mself\u001b[0m\u001b[0;34m.\u001b[0m\u001b[0musecols\u001b[0m\u001b[0;34m\u001b[0m\u001b[0;34m\u001b[0m\u001b[0m\n\u001b[1;32m   2009\u001b[0m \u001b[0;34m\u001b[0m\u001b[0m\n\u001b[0;32m-> 2010\u001b[0;31m         \u001b[0mself\u001b[0m\u001b[0;34m.\u001b[0m\u001b[0m_reader\u001b[0m \u001b[0;34m=\u001b[0m \u001b[0mparsers\u001b[0m\u001b[0;34m.\u001b[0m\u001b[0mTextReader\u001b[0m\u001b[0;34m(\u001b[0m\u001b[0msrc\u001b[0m\u001b[0;34m,\u001b[0m \u001b[0;34m**\u001b[0m\u001b[0mkwds\u001b[0m\u001b[0;34m)\u001b[0m\u001b[0;34m\u001b[0m\u001b[0;34m\u001b[0m\u001b[0m\n\u001b[0m\u001b[1;32m   2011\u001b[0m         \u001b[0mself\u001b[0m\u001b[0;34m.\u001b[0m\u001b[0munnamed_cols\u001b[0m \u001b[0;34m=\u001b[0m \u001b[0mself\u001b[0m\u001b[0;34m.\u001b[0m\u001b[0m_reader\u001b[0m\u001b[0;34m.\u001b[0m\u001b[0munnamed_cols\u001b[0m\u001b[0;34m\u001b[0m\u001b[0;34m\u001b[0m\u001b[0m\n\u001b[1;32m   2012\u001b[0m \u001b[0;34m\u001b[0m\u001b[0m\n",
            "\u001b[0;32mpandas/_libs/parsers.pyx\u001b[0m in \u001b[0;36mpandas._libs.parsers.TextReader.__cinit__\u001b[0;34m()\u001b[0m\n",
            "\u001b[0;32mpandas/_libs/parsers.pyx\u001b[0m in \u001b[0;36mpandas._libs.parsers.TextReader._setup_parser_source\u001b[0;34m()\u001b[0m\n",
            "\u001b[0;31mFileNotFoundError\u001b[0m: [Errno 2] No such file or directory: '/content/drive/MyDrive/Capstone_PerfEval/Bytes_Time_correlation/correlation_rx.txt'"
          ]
        }
      ]
    },
    {
      "cell_type": "code",
      "metadata": {
        "id": "74buDbG6_y1c"
      },
      "source": [
        "Corr_RX_list = filtered_data[0]\n",
        "# plt.boxplot(filtered_data[0][0], labels=parameter_list_dht)\n",
        "plt.plot(parameter_list, Corr_RX_list, 'o')\n",
        "plt.xticks(rotation=90)\n",
        "plt.show()"
      ],
      "id": "74buDbG6_y1c",
      "execution_count": null,
      "outputs": []
    },
    {
      "cell_type": "code",
      "metadata": {
        "id": "ztQGdgKoacyf"
      },
      "source": [
        "correlation_df_tx = pd.read_csv('/content/drive/MyDrive/Capstone_PerfEval/Bytes_Time_correlation/correlation_tx.txt', sep=',', index_col=False, header=None)\n",
        "correlation_df_tx.columns=['SPEARMAN', 'LATENCY', 'PARAMETER', 'FEATURE', 'CORRELATION','APP']\n",
        "correlation_df_tx['APP_Action']=correlation_df_tx['APP']+'_'+correlation_df_tx['FEATURE']\n",
        "# print(correlation_df)\n",
        "\n",
        "parameter_list = correlation_df_tx['APP_Action'].unique()\n",
        "print(parameter_list)\n",
        "values = [0] * len(parameter_list)\n",
        "# parameter_list=np.delete(parameter_list, len(parameter_list))\n",
        "# print(parameter_list)\n",
        "cnt = 0\n",
        "for parameter in parameter_list:\n",
        "    # print(parameter)\n",
        "    values[cnt] = correlation_df_tx[correlation_df_tx['APP_Action'] == parameter]['CORRELATION'].values\n",
        "    # print(values[cnt])\n",
        "    cnt += 1\n",
        "values = np.stack(values, axis=0 )\n",
        "values = np.transpose(values)\n",
        "print(values)\n",
        "# print(values[~np.isnan(values).any(axis=1), :])\n",
        "filtered_data_tx = values[~np.isnan(values).any(axis=1), :]\n",
        "print(filtered_data_tx)\n",
        "print(type(filtered_data_tx[0][0]))\n",
        "parameter_list_dht = ['opening\\nnews']\n",
        "plt.boxplot(filtered_data_tx[0][0], labels=parameter_list_dht)\n",
        "plt.grid()\n",
        "plt.ylim([-0.5, 0.5])\n",
        "plt.title(\"TX_Dailyhunt\")\n",
        "plt.show()\n",
        "# plt.savefig('/content/drive/MyDrive/Capstone_PerfEval/Bytes_Time_correlation/correlation.pdf', bbox_inches='tight')"
      ],
      "id": "ztQGdgKoacyf",
      "execution_count": null,
      "outputs": []
    },
    {
      "cell_type": "code",
      "metadata": {
        "id": "9LgxpUVCcflD"
      },
      "source": [
        "parameter_list_flp = [0] * 5\n",
        "a = [0] * 5\n",
        "parameter_list_flp = ['search\\nproduct','product\\nprofile','add to\\ncart','go to\\ncart','remove from\\ncart']\n",
        "\n",
        "# print(values[~np.isnan(values).any(axis=1), :])\n",
        "st = 1\n",
        "\n",
        "for i in range(5):\n",
        "  temp = [filtered_data[0][st]]\n",
        "  # print((temp))\n",
        "  a[i] = temp\n",
        "  # print(a)\n",
        "  st=st+1\n",
        "\n",
        "print((a))\n",
        "plt.boxplot((a), labels=(parameter_list_flp))\n",
        "\n",
        "plt.grid()\n",
        "plt.title(\"RX_Flipkart\")\n",
        "plt.ylim([-0.5, 0.5])\n",
        "plt.show()"
      ],
      "id": "9LgxpUVCcflD",
      "execution_count": null,
      "outputs": []
    },
    {
      "cell_type": "code",
      "metadata": {
        "id": "XwWYysASarsp"
      },
      "source": [
        "parameter_list_flp = [0] * 5\n",
        "a = [0] * 5\n",
        "parameter_list_flp = ['search\\nproduct','product\\nprofile','add to\\ncart','go to\\ncart','remove from\\ncart']\n",
        "\n",
        "# print(values[~np.isnan(values).any(axis=1), :])\n",
        "st = 1\n",
        "\n",
        "for i in range(5):\n",
        "  temp = [filtered_data_tx[0][st]]\n",
        "  # print((temp))\n",
        "  a[i] = temp\n",
        "  # print(a)\n",
        "  st=st+1\n",
        "\n",
        "print((a))\n",
        "plt.boxplot((a), labels=(parameter_list_flp))\n",
        "\n",
        "plt.grid()\n",
        "plt.title(\"TX_Flipkart\")\n",
        "plt.ylim([-0.5, 0.5])\n",
        "plt.show()"
      ],
      "id": "XwWYysASarsp",
      "execution_count": null,
      "outputs": []
    },
    {
      "cell_type": "code",
      "metadata": {
        "id": "1FtTrwn2TQva"
      },
      "source": [
        "parameter_list_gmaps = ['search place']\n",
        "\n",
        "st = 1\n",
        "a = [filtered_data[0][6]]\n",
        "print(a)\n",
        "\n",
        "plt.boxplot(a, labels=parameter_list_gmaps)\n",
        "\n",
        "plt.grid()\n",
        "plt.title(\"RX vs Latency Google Maps\")\n",
        "plt.ylim([-0.5, 0.5])\n",
        "plt.show()"
      ],
      "id": "1FtTrwn2TQva",
      "execution_count": null,
      "outputs": []
    },
    {
      "cell_type": "code",
      "metadata": {
        "id": "uPhjvC5lbDVy"
      },
      "source": [
        "parameter_list_gmaps = ['search place']\n",
        "\n",
        "st = 1\n",
        "a = [filtered_data_tx[0][6]]\n",
        "print(a)\n",
        "\n",
        "plt.boxplot(a, labels=parameter_list_gmaps)\n",
        "\n",
        "plt.grid()\n",
        "plt.title(\"TX vs Latency Google Maps\")\n",
        "plt.ylim([-0.5, 0.5])\n",
        "plt.show()"
      ],
      "id": "uPhjvC5lbDVy",
      "execution_count": null,
      "outputs": []
    },
    {
      "cell_type": "code",
      "metadata": {
        "id": "MQrzRCVzTQjN"
      },
      "source": [
        "parameter_list_hts = [0] * 2\n",
        "a = [0] * 2\n",
        "parameter_list_hts = ['search\\nvideo','play\\nvideo']\n",
        "\n",
        "# print(values[~np.isnan(values).any(axis=1), :])\n",
        "st = 7\n",
        "\n",
        "for i in range(2):\n",
        "  temp = [filtered_data[0][st]]\n",
        "  # print((temp))\n",
        "  a[i] = temp\n",
        "  # print(a)\n",
        "  st=st+1\n",
        "\n",
        "print(a)\n",
        "plt.boxplot(a, labels=parameter_list_hts)\n",
        "\n",
        "plt.grid()\n",
        "plt.title(\"RX vs Latency Hotstar\")\n",
        "plt.ylim([-0.5, 0.5])\n",
        "plt.show()"
      ],
      "id": "MQrzRCVzTQjN",
      "execution_count": null,
      "outputs": []
    },
    {
      "cell_type": "code",
      "metadata": {
        "id": "otdvomfObNts"
      },
      "source": [
        "parameter_list_hts = [0] * 2\n",
        "a = [0] * 2\n",
        "parameter_list_hts = ['search\\nvideo','play\\nvideo']\n",
        "\n",
        "# print(values[~np.isnan(values).any(axis=1), :])\n",
        "st = 7\n",
        "\n",
        "for i in range(2):\n",
        "  temp = [filtered_data_tx[0][st]]\n",
        "  # print((temp))\n",
        "  a[i] = temp\n",
        "  # print(a)\n",
        "  st=st+1\n",
        "\n",
        "print(a)\n",
        "plt.boxplot(a, labels=parameter_list_hts)\n",
        "\n",
        "plt.grid()\n",
        "plt.title(\"TX vs Latency Hotstar\")\n",
        "plt.ylim([-0.5, 0.5])\n",
        "plt.show()"
      ],
      "id": "otdvomfObNts",
      "execution_count": null,
      "outputs": []
    },
    {
      "cell_type": "code",
      "metadata": {
        "id": "dyxsvTmeTQfp"
      },
      "source": [
        "parameter_list_lkd = [0] * 3\n",
        "a = [0] * 3\n",
        "parameter_list_lkd = ['my\\nconnections','my\\nprofile', 'search\\nresults']\n",
        "\n",
        "# print(values[~np.isnan(values).any(axis=1), :])\n",
        "st = 9\n",
        "\n",
        "for i in range(3):\n",
        "  temp = [filtered_data[0][st]]\n",
        "  # print((temp))\n",
        "  a[i] = temp\n",
        "  # print(a)\n",
        "  st=st+1\n",
        "\n",
        "print(a)\n",
        "plt.boxplot(a, labels=parameter_list_lkd)\n",
        "\n",
        "plt.grid()\n",
        "plt.title(\"RX vs Latency LinkedIn\")\n",
        "plt.ylim([-0.5, 0.5])\n",
        "plt.show()"
      ],
      "id": "dyxsvTmeTQfp",
      "execution_count": null,
      "outputs": []
    },
    {
      "cell_type": "code",
      "metadata": {
        "id": "rJjh1dyqbYWz"
      },
      "source": [
        "parameter_list_lkd = [0] * 3\n",
        "a = [0] * 3\n",
        "parameter_list_lkd = ['my\\nconnections','my\\nprofile', 'search\\nresults']\n",
        "\n",
        "# print(values[~np.isnan(values).any(axis=1), :])\n",
        "st = 9\n",
        "\n",
        "for i in range(3):\n",
        "  temp = [filtered_data_tx[0][st]]\n",
        "  # print((temp))\n",
        "  a[i] = temp\n",
        "  # print(a)\n",
        "  st=st+1\n",
        "\n",
        "print(a)\n",
        "plt.boxplot(a, labels=parameter_list_lkd)\n",
        "\n",
        "plt.grid()\n",
        "plt.title(\"TX vs Latency LinkedIn\")\n",
        "plt.ylim([-0.5, 0.5])\n",
        "plt.show()"
      ],
      "id": "rJjh1dyqbYWz",
      "execution_count": null,
      "outputs": []
    },
    {
      "cell_type": "code",
      "metadata": {
        "id": "bEHNjTiiTQdN"
      },
      "source": [
        "parameter_list_tlg = ['send message']\n",
        "\n",
        "a = [filtered_data[0][12]]\n",
        "print(a)\n",
        "\n",
        "plt.boxplot(a, labels=parameter_list_tlg)\n",
        "\n",
        "plt.grid()\n",
        "plt.title(\"RX vs Latency Telegram\")\n",
        "plt.ylim([-0.5, 0.5])\n",
        "plt.show()"
      ],
      "id": "bEHNjTiiTQdN",
      "execution_count": null,
      "outputs": []
    },
    {
      "cell_type": "code",
      "metadata": {
        "id": "Glq7bSJgbgek"
      },
      "source": [
        "parameter_list_tlg = ['send message']\n",
        "\n",
        "a = [filtered_data_tx[0][12]]\n",
        "print(a)\n",
        "\n",
        "plt.boxplot(a, labels=parameter_list_tlg)\n",
        "\n",
        "plt.grid()\n",
        "plt.title(\"TX vs Latency Telegram\")\n",
        "plt.ylim([-0.5, 0.5])\n",
        "plt.show()"
      ],
      "id": "Glq7bSJgbgek",
      "execution_count": null,
      "outputs": []
    },
    {
      "cell_type": "code",
      "metadata": {
        "id": "tsRSPsiJTQav"
      },
      "source": [
        "parameter_list_wht = ['sending message']\n",
        "\n",
        "a = [filtered_data[0][13]]\n",
        "print(a)\n",
        "\n",
        "plt.boxplot(a, labels=parameter_list_wht)\n",
        "\n",
        "plt.grid()\n",
        "plt.title(\"RX vs Latency Whatsapp\")\n",
        "plt.ylim([-0.5, 0.5])\n",
        "plt.show()"
      ],
      "id": "tsRSPsiJTQav",
      "execution_count": null,
      "outputs": []
    },
    {
      "cell_type": "code",
      "metadata": {
        "id": "miXnduQKbsd6"
      },
      "source": [
        "parameter_list_wht = ['sending message']\n",
        "\n",
        "a = [filtered_data_tx[0][13]]\n",
        "print(a)\n",
        "\n",
        "plt.boxplot(a, labels=parameter_list_wht)\n",
        "\n",
        "plt.grid()\n",
        "plt.title(\"TX vs Latency Whatsapp\")\n",
        "plt.ylim([-0.5, 0.5])\n",
        "plt.show()"
      ],
      "id": "miXnduQKbsd6",
      "execution_count": null,
      "outputs": []
    },
    {
      "cell_type": "code",
      "metadata": {
        "id": "PqFp_Jh4TQSF"
      },
      "source": [
        "parameter_list_ytb = [0] * 3\n",
        "a = [0] * 3\n",
        "parameter_list_ytb = ['search\\nvideo','play\\nvideo', 'search\\nchannel']\n",
        "\n",
        "# print(values[~np.isnan(values).any(axis=1), :])\n",
        "st = 14\n",
        "\n",
        "for i in range(3):\n",
        "  temp = [filtered_data[0][st]]\n",
        "  # print((temp))\n",
        "  a[i] = temp\n",
        "  # print(a)\n",
        "  st=st+1\n",
        "\n",
        "print(a)\n",
        "plt.boxplot(a, labels=parameter_list_ytb)\n",
        "\n",
        "plt.grid()\n",
        "plt.title(\"RX vs Latency Youtube\")\n",
        "plt.ylim([-0.5, 0.5])\n",
        "plt.show()"
      ],
      "id": "PqFp_Jh4TQSF",
      "execution_count": null,
      "outputs": []
    },
    {
      "cell_type": "code",
      "metadata": {
        "id": "qXE_mOqXby5A"
      },
      "source": [
        "parameter_list_ytb = [0] * 3\n",
        "a = [0] * 3\n",
        "parameter_list_ytb = ['search\\nvideo','play\\nvideo', 'search\\nchannel']\n",
        "\n",
        "# print(values[~np.isnan(values).any(axis=1), :])\n",
        "st = 14\n",
        "\n",
        "for i in range(3):\n",
        "  temp = [filtered_data_tx[0][st]]\n",
        "  # print((temp))\n",
        "  a[i] = temp\n",
        "  # print(a)\n",
        "  st=st+1\n",
        "\n",
        "print(a)\n",
        "plt.boxplot(a, labels=parameter_list_ytb)\n",
        "\n",
        "plt.grid()\n",
        "plt.title(\"TX vs Latency Youtube\")\n",
        "plt.ylim([-0.5, 0.5])\n",
        "plt.show()"
      ],
      "id": "qXE_mOqXby5A",
      "execution_count": null,
      "outputs": []
    },
    {
      "cell_type": "code",
      "metadata": {
        "id": "zhRpFKctTQBA"
      },
      "source": [
        "parameter_list_fb = [0] * 3\n",
        "a = [0] * 3\n",
        "parameter_list_fb = ['post in\\n a group','search\\nresults', 'person\\nprofile']\n",
        "\n",
        "# print(values[~np.isnan(values).any(axis=1), :])\n",
        "st = 17\n",
        "\n",
        "for i in range(3):\n",
        "  temp = [filtered_data[0][st]]\n",
        "  # print((temp))\n",
        "  a[i] = temp\n",
        "  # print(a)\n",
        "  st=st+1\n",
        "\n",
        "print(a)\n",
        "plt.boxplot(a, labels=parameter_list_fb)\n",
        "\n",
        "plt.grid()\n",
        "plt.title(\"RX vs Latency Facebook\")\n",
        "plt.ylim([-0.5, 0.5])\n",
        "plt.show()"
      ],
      "id": "zhRpFKctTQBA",
      "execution_count": null,
      "outputs": []
    },
    {
      "cell_type": "code",
      "metadata": {
        "id": "DIqXJRgSb7n-"
      },
      "source": [
        "parameter_list_fb = [0] * 3\n",
        "a = [0] * 3\n",
        "parameter_list_fb = ['post in\\n a group','search\\nresults', 'person\\nprofile']\n",
        "\n",
        "# print(values[~np.isnan(values).any(axis=1), :])\n",
        "st = 17\n",
        "\n",
        "for i in range(3):\n",
        "  temp = [filtered_data_tx[0][st]]\n",
        "  # print((temp))\n",
        "  a[i] = temp\n",
        "  # print(a)\n",
        "  st=st+1\n",
        "\n",
        "print(a)\n",
        "plt.boxplot(a, labels=parameter_list_fb)\n",
        "\n",
        "plt.grid()\n",
        "plt.title(\"TX vs Latency Facebook\")\n",
        "plt.ylim([-0.5, 0.5])\n",
        "plt.show()"
      ],
      "id": "DIqXJRgSb7n-",
      "execution_count": null,
      "outputs": []
    },
    {
      "cell_type": "code",
      "metadata": {
        "id": "a5EjGw6PWc7e"
      },
      "source": [
        "parameter_list_gnews = ['search news']\n",
        "\n",
        "a = [filtered_data[0][20]]\n",
        "print(a)\n",
        "\n",
        "plt.boxplot(a, labels=parameter_list_gnews)\n",
        "\n",
        "plt.grid()\n",
        "plt.title(\"RX vs Latency Google News\")\n",
        "plt.ylim([-0.5, 0.5])\n",
        "plt.show()"
      ],
      "id": "a5EjGw6PWc7e",
      "execution_count": null,
      "outputs": []
    },
    {
      "cell_type": "code",
      "metadata": {
        "id": "U1w2SuxpcDsQ"
      },
      "source": [
        "parameter_list_gnews = ['search news']\n",
        "\n",
        "a = [filtered_data_tx[0][20]]\n",
        "print(a)\n",
        "\n",
        "plt.boxplot(a, labels=parameter_list_gnews)\n",
        "\n",
        "plt.grid()\n",
        "plt.title(\"TX vs Latency Google News\")\n",
        "plt.ylim([-0.5, 0.5])\n",
        "plt.show()"
      ],
      "id": "U1w2SuxpcDsQ",
      "execution_count": null,
      "outputs": []
    },
    {
      "cell_type": "code",
      "metadata": {
        "id": "-kVN_4-bbQco"
      },
      "source": [
        "parameter_list_amz = [0] * 5\n",
        "a = [0] * 5\n",
        "parameter_list_amz = ['product\\nprofile','add to\\ncart', 'go to\\ncart','remove from\\ncart','search\\nresults']\n",
        "\n",
        "# print(values[~np.isnan(values).any(axis=1), :])\n",
        "st = 21\n",
        "\n",
        "for i in range(3):\n",
        "  temp = [filtered_data[0][st]]\n",
        "  # print((temp))\n",
        "  a[i] = temp\n",
        "  # print(a)\n",
        "  st=st+1\n",
        "\n",
        "print(a)\n",
        "plt.boxplot(a, labels=parameter_list_amz)\n",
        "\n",
        "plt.grid()\n",
        "plt.title(\"RX vs Latency Amazon\")\n",
        "plt.ylim([-0.5, 0.5])\n",
        "plt.show()"
      ],
      "id": "-kVN_4-bbQco",
      "execution_count": null,
      "outputs": []
    },
    {
      "cell_type": "code",
      "metadata": {
        "id": "i0a62gASbThn"
      },
      "source": [
        "parameter_list_amz = [0] * 5\n",
        "a = [0] * 5\n",
        "parameter_list_amz = ['product\\nprofile','add to\\ncart', 'go to\\ncart','remove from\\ncart','search\\nresults']\n",
        "\n",
        "# print(values[~np.isnan(values).any(axis=1), :])\n",
        "st = 21\n",
        "\n",
        "for i in range(3):\n",
        "  temp = [filtered_data_tx[0][st]]\n",
        "  # print((temp))\n",
        "  a[i] = temp\n",
        "  # print(a)\n",
        "  st=st+1\n",
        "\n",
        "print(a)\n",
        "plt.boxplot(a, labels=parameter_list_amz)\n",
        "\n",
        "plt.grid()\n",
        "plt.title(\"TX vs Latency Amazon\")\n",
        "plt.ylim([-0.5, 0.5])\n",
        "plt.show()"
      ],
      "id": "i0a62gASbThn",
      "execution_count": null,
      "outputs": []
    },
    {
      "cell_type": "code",
      "metadata": {
        "id": "_c-J4IrecBKb"
      },
      "source": [
        "parameter_list_ptm = ['transaction from\\nwallet']\n",
        "\n",
        "a = [filtered_data[0][22]]\n",
        "print(a)\n",
        "\n",
        "plt.boxplot(a, labels=parameter_list_ptm)\n",
        "\n",
        "plt.grid()\n",
        "plt.title(\"RX vs Latency Paytm\")\n",
        "plt.ylim([-0.5, 1.5])\n",
        "plt.show()"
      ],
      "id": "_c-J4IrecBKb",
      "execution_count": null,
      "outputs": []
    },
    {
      "cell_type": "code",
      "metadata": {
        "id": "JnprjXSYcL5k"
      },
      "source": [
        "parameter_list_ptm = ['transaction from\\nwallet']\n",
        "\n",
        "a = [filtered_data_tx[0][22]]\n",
        "print(a)\n",
        "\n",
        "plt.boxplot(a, labels=parameter_list_ptm)\n",
        "\n",
        "plt.grid()\n",
        "plt.title(\"TX vs Latency Paytm\")\n",
        "plt.ylim([-0.5, 0.5])\n",
        "plt.show()"
      ],
      "id": "JnprjXSYcL5k",
      "execution_count": null,
      "outputs": []
    },
    {
      "cell_type": "code",
      "metadata": {
        "id": "aa61cbe3"
      },
      "source": [
        "# np.median(dataset['PING_MEDIAN_GOOGLE'].values)"
      ],
      "id": "aa61cbe3",
      "execution_count": null,
      "outputs": []
    },
    {
      "cell_type": "code",
      "metadata": {
        "id": "absolute-resident"
      },
      "source": [
        "# def kmeans():\n",
        "#     feature_labels = [\"Android\\nVersion\",\"Distance\",\"RAM\",\"Time of\\nDay\",\"Net\\nType\", \"Ping\\nMedian\"]\n",
        "#     print(np.median(dataset['PING_MEDIAN_GOOGLE']))\n",
        "#     values = [0] * len(feature_lists)\n",
        "#     counts = [0] * 5 * len(feature_lists)\n",
        "#     count = 0\n",
        "#     feature_cols = [1,2,3,5,6,7]\n",
        "#     for app in feature_lists:\n",
        "#             print(\"Analysis for\", app)\n",
        "#             app_data = dataset[dataset['FEATURE'].isin(feature_lists[app])]\n",
        "#             #print(app_data)\n",
        "#             app_data[cols_to_norm_mod] = app_data[cols_to_norm].apply(lambda x: (x - x.min()) / (x.max() - x.min()))\n",
        "#             X = app_data.iloc[:,feature_cols]\n",
        "#             kmeans = KMeans(n_clusters=clusters[app])\n",
        "#             latency = app_data[['LATENCY_NORM']]\n",
        "#             print(app_data)\n",
        "#             latency_kmeans = kmeans.fit_predict(latency)\n",
        "#             #print(np.min(app_data[['LATENCY']][latency_kmeans == 0].values), np.max(app_data[['LATENCY']][latency_kmeans == 0].values))\n",
        "#             #print(np.min(app_data[['LATENCY']][latency_kmeans == 1].values), np.max(app_data[['LATENCY']][latency_kmeans == 1].values))\n",
        "#             #print(np.min(app_data[['LATENCY']][latency_kmeans == 2].values), np.max(app_data[['LATENCY']][latency_kmeans == 2].values))\n",
        "#             #print(np.min(app_data[['LATENCY']][latency_kmeans == 3].values), np.max(app_data[['LATENCY']][latency_kmeans == 3].values))\n",
        "#             app_data['LATENCY_LABELS'] = latency_kmeans\n",
        "\n",
        "#             y = app_data['LATENCY_LABELS']\n",
        "                        \n",
        "#             clf2 = DecisionTreeClassifier()\n",
        "#             clf2.fit(X,y)\n",
        "#             importance = clf2.feature_importances_\n",
        "#             #plt.figure()\n",
        "#             #graphname = app + \"_features_dt\"\n",
        "#             #plt.title(graphname )\n",
        "#             #plt.xlabel(\"Features\")\n",
        "#             #plt.ylabel(\"Importance score\")\n",
        "#             values[count] = importance\n",
        "#             counts[count] = 1\n",
        "#             count += 1\n",
        "#             #print(feature_labels, importance)\n",
        "# #             plt.bar(feature_labels, importance)\n",
        "# #             plt.xticks(rotation = 45)\n",
        "# #             plt.ylim([0, 1])\n",
        "# #             plt.tight_layout()\n",
        "# #             output_path = graphname +  \".pdf\"\n",
        "# #             plt.savefig(output_path, bbox_inches='tight')\n",
        "#     values = np.stack(values, axis=0)\n",
        "#     plt.figure()\n",
        "#     plt.boxplot(values, labels=feature_labels)\n",
        "#     #plt.xticks(rotation = 45)\n",
        "#     plt.ylim([0,1])\n",
        "#     plt.xlabel('Features')\n",
        "#     plt.ylabel('Feature Importance')\n",
        "#     plt.savefig('feature_ranking.pdf', bbox_inches='tight')\n",
        "    \n",
        "# def kmeans_no_ping():\n",
        "#     feature_labels = [\"Android\\nVersion\",\"Distance\",\"RAM\",\"Time of\\nDay\",\"Net\\nType\"]\n",
        "#     values = [0] * len(feature_lists)\n",
        "#     counts = [0] * 5 * len(feature_lists)\n",
        "#     count = 0\n",
        "#     feature_cols = [1,2,3,5,6]\n",
        "#     for app in feature_lists:\n",
        "#             print(\"Analysis for\", app)\n",
        "#             app_data = dataset[dataset['FEATURE'].isin(feature_lists[app])]\n",
        "#             #print(app_data)\n",
        "#             app_data[cols_to_norm_mod] = app_data[cols_to_norm].apply(lambda x: (x - x.min()) / (x.max() - x.min()))\n",
        "#             X = app_data.iloc[:,feature_cols]\n",
        "#             kmeans = KMeans(n_clusters=clusters[app])\n",
        "#             latency = app_data[['LATENCY_NORM']]\n",
        "#             latency_kmeans = kmeans.fit_predict(latency)\n",
        "#             #print(np.min(app_data[['LATENCY']][latency_kmeans == 0].values), np.max(app_data[['LATENCY']][latency_kmeans == 0].values))\n",
        "#             #print(np.min(app_data[['LATENCY']][latency_kmeans == 1].values), np.max(app_data[['LATENCY']][latency_kmeans == 1].values))\n",
        "#             #print(np.min(app_data[['LATENCY']][latency_kmeans == 2].values), np.max(app_data[['LATENCY']][latency_kmeans == 2].values))\n",
        "#             #print(np.min(app_data[['LATENCY']][latency_kmeans == 3].values), np.max(app_data[['LATENCY']][latency_kmeans == 3].values))\n",
        "#             app_data['LATENCY_LABELS'] = latency_kmeans\n",
        "\n",
        "#             y = app_data['LATENCY_LABELS']\n",
        "#             clf1=RandomForestClassifier(n_estimators=100)\n",
        "#             clf1.fit(X,y)\n",
        "            \n",
        "#             clf2 = DecisionTreeClassifier()\n",
        "#             clf2.fit(X,y)\n",
        "#             importance = clf2.feature_importances_\n",
        "#             plt.figure()\n",
        "#             graphname = app + \"_features_dt\"\n",
        "#             plt.title(graphname )\n",
        "#             plt.xlabel(\"Features\")\n",
        "#             plt.ylabel(\"Importance score\")\n",
        "#             values[count] = importance\n",
        "#             counts[count] = 1\n",
        "#             count += 1\n",
        "#             #print(feature_labels, importance)\n",
        "#             plt.bar(feature_labels, importance)\n",
        "#             plt.xticks(rotation = 45)\n",
        "#             plt.ylim([0, 1])\n",
        "#             plt.tight_layout()\n",
        "#             output_path = graphname +  \".pdf\"\n",
        "#             plt.savefig(output_path, bbox_inches='tight')\n",
        "#     values = np.stack(values, axis=0)\n",
        "#     plt.figure()\n",
        "#     print(values, feature_labels)\n",
        "#     plt.boxplot(values, labels=feature_labels)\n",
        "#     #plt.xticks(rotation = 45)\n",
        "#     plt.ylim([0,1])\n",
        "#     plt.xlabel('Features')\n",
        "#     plt.ylabel('Feature Importance')\n",
        "#     plt.savefig('feature_ranking_no_ping.pdf', bbox_inches='tight')\n",
        "    \n",
        "    \n",
        "# if __name__ == \"__main__\":\n",
        "#     kmeans_no_ping()\n"
      ],
      "id": "absolute-resident",
      "execution_count": null,
      "outputs": []
    }
  ]
}